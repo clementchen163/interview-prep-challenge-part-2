{
 "cells": [
  {
   "cell_type": "markdown",
   "id": "2c3b218b",
   "metadata": {},
   "source": [
    "## Problem Statement\n",
    "\n",
    "Defining  an  \"adopted  user\"   as  a  user  who   has  logged  into  the  product  on  three  separate\n",
    "days  in  at  least  one  seven-day  period ,  identify  which  factors  predict  future  user\n",
    "adoption.\n"
   ]
  },
  {
   "cell_type": "markdown",
   "id": "ec420464",
   "metadata": {},
   "source": [
    "## Feature Engineering\n",
    "\n",
    "We feature engineered several new columns:\n",
    "* (adopted) Boolean which shows whether or not a user has adopted the software\n",
    "* (email_domain) Categorical which shows the domain of the email used to create the account\n",
    "* (days_between_creation_and_last_session) Numerical Shows the number of days between account creation and last login\n",
    "* (people_referred) Numerical which shows how many people a specific user referred\n",
    "* (org_prevalance) Numerical which shows the number of users in from the same organization.\n",
    "\n",
    "1602 out of 12000 people were labeled as adopted users or ~ 13%"
   ]
  },
  {
   "cell_type": "markdown",
   "id": "01ea3055",
   "metadata": {},
   "source": [
    "## Imputing Missing Values\n",
    "\n",
    "There were missing values in the following columns:\n",
    "\n",
    "* invited_by_user_id\n",
    "* last_session_creation_time \n",
    "\n",
    "For the invited_by_user_id column, we imputed missing values with the number 0 to indicate that they were not invited by another user as user_id starts from 1.\n",
    "\n",
    "For the last_session_creation_time, we imputed missing values with from the creation_time column as that would the only know time they were logged in. "
   ]
  },
  {
   "cell_type": "markdown",
   "id": "c0548f4e",
   "metadata": {},
   "source": [
    "## Exploratory Data Analysis\n",
    "\n",
    "For numerical variables, the most correlated variable to the adopted column is the days_between_creation_and_last_session column\n",
    "\n",
    "![title](Images/corr.png)\n",
    "\n",
    "\n",
    "The boxplot of days_between_creation_and_last_session show the correlation very well\n",
    "\n",
    "![title](Images/boxplot.png)\n",
    "\n",
    "All of the numerical and boolean variables are heavily left skewed\n",
    "\n",
    "![title](Images/dist.png)"
   ]
  },
  {
   "cell_type": "markdown",
   "id": "1dd56cf4",
   "metadata": {},
   "source": [
    "## Modeling\n",
    "The final model metrics are shown below\n",
    "|Model Name|\tf1 score\t|test_acc\t|roc\t|precision\t|recall\n",
    "|:---------:|:---------:|:---------:|:---------:|:---------:|:---------:|\n",
    "|Random Forest\t|0.917\t|0.977\t|0.996|\t0.945|\t0.890|\n",
    "\n",
    "By far the most important feature was 'days between_creation_and_last_session' which \n",
    "\n",
    "![title](Images/feat.png)\n",
    "\n"
   ]
  },
  {
   "cell_type": "markdown",
   "id": "4921a67a",
   "metadata": {},
   "source": [
    "## Ideas for Future Research\n",
    "\n",
    "* Defining an \"adopted user\" as a user who has logged into the product on three separate days in at least one seven-day period might not be the best metric for a user who has 'adopted' the product. The creation times and last session times span over 2 years: May 2012 - May-2014. That means a user who logged in 3 times withina 7 day period in early 2012 but has never logged on since would still be considered an 'adopted user'. A better metric would be one that considers recent logins more heavily. \n",
    "\n",
    "\n",
    "* Some more data which could be useful is login length or session logout time. with this data we can see how long a user is logged in for which could be helpful."
   ]
  }
 ],
 "metadata": {
  "kernelspec": {
   "display_name": "Python 3 (ipykernel)",
   "language": "python",
   "name": "python3"
  },
  "language_info": {
   "codemirror_mode": {
    "name": "ipython",
    "version": 3
   },
   "file_extension": ".py",
   "mimetype": "text/x-python",
   "name": "python",
   "nbconvert_exporter": "python",
   "pygments_lexer": "ipython3",
   "version": "3.8.3"
  }
 },
 "nbformat": 4,
 "nbformat_minor": 5
}
