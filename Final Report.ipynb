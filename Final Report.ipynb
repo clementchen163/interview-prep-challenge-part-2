{
 "cells": [
  {
   "cell_type": "markdown",
   "id": "acfffa9f",
   "metadata": {},
   "source": [
    "## Problem Statement\n",
    "\n",
    "Defining  an  \"adopted  user\"   as  a  user  who   has  logged  into  the  product  on  three  separate\n",
    "days  in  at  least  one  seven-day  period ,  identify  which  factors  predict  future  user\n",
    "adoption.\n"
   ]
  },
  {
   "cell_type": "markdown",
   "id": "41f4e5ac",
   "metadata": {},
   "source": [
    "## Feature Engineering\n",
    "\n",
    "We feature engineered several new columns:\n",
    "* (adopted) Boolean which shows whether or not a user has adopted the software\n",
    "* (email_domain) Categorical which shows the domain of the email used to create the account\n",
    "* (days_between_creation_and_last_session) Numerical Shows the number of days between account creation and last login\n",
    "* (people_referred) Numerical which shows how many people a specific user referred\n",
    "* (org_prevalance) Numerical which shows the number of users in from the same organization.\n",
    "\n",
    "1602 out of 12000 people were labeled as adopted users or ~ 13%"
   ]
  },
  {
   "cell_type": "markdown",
   "id": "0e2c78c9",
   "metadata": {},
   "source": [
    "## Imputing Missing Values\n",
    "\n",
    "There were missing values in the following columns:\n",
    "\n",
    "* invited_by_user_id\n",
    "* last_session_creation_time \n",
    "\n",
    "For the invited_by_user_id column, we imputed missing values with the number 0 to indicate that they were not invited by another user as user_id starts from 1.\n",
    "\n",
    "For the last_session_creation_time, we imputed missing values with from the creation_time column as that would the only know time they were logged in. "
   ]
  },
  {
   "cell_type": "markdown",
   "id": "421029d4",
   "metadata": {},
   "source": [
    "## Exploratory Data Analysis\n",
    "\n",
    "For numerical variables, the most correlated variable to the adopted column is the days_between_creation_and_last_session column\n",
    "\n",
    "![title](Images/corr.png)\n",
    "\n",
    "\n",
    "The boxplot of days_between_creation_and_last_session show the correlation very well\n",
    "\n",
    "![title](Images/boxplot.png)\n",
    "\n",
    "All of the numerical and boolean variables are heavily left skewed\n",
    "\n",
    "![title](Images/dist.png)"
   ]
  },
  {
   "cell_type": "markdown",
   "id": "726598d7",
   "metadata": {},
   "source": [
    "## Modeling\n",
    "\n",
    "For modeling we used RandomizedSearchCV to hyperparemeter tune a Random Forest model. The following contains the hyperparameter search space:\n",
    "\n",
    "* n_estimators : randint(20, 300)\n",
    "\n",
    "* max_depth : randint(3,20)\n",
    "\n",
    "* min_samples_split : randint(2,10)\n",
    "\n",
    "* min_samples_leaf : randint(1,10)\n",
    "\n",
    "* max_features : randint(1, 15)\n",
    "\n",
    "* criterion : ['gini', 'entropy']\n",
    "\n",
    "\n",
    "The chosen hyperparameters from the RandomizedSearchCV are below:\n",
    "\n",
    "* n_estimators : 87\n",
    "* max_depth : 5\n",
    "* min_samples_split : 7\n",
    "* min_samples_leaf : 9\n",
    "* max_features : 14\n",
    "* criterion : 'entropy'\n"
   ]
  },
  {
   "cell_type": "markdown",
   "id": "9027f294",
   "metadata": {},
   "source": [
    "## Results\n",
    "The final model metrics on the test set using the chosen hyperparameters are shown below:\n",
    "\n",
    "|Model Name|\tf1 score\t|test_acc\t|roc\t|precision\t|recall\n",
    "|:---------:|:---------:|:---------:|:---------:|:---------:|:---------:|\n",
    "|Random Forest\t|0.917\t|0.977\t|0.996|\t0.945|\t0.890|"
   ]
  },
  {
   "cell_type": "markdown",
   "id": "9cda7659",
   "metadata": {},
   "source": [
    "## Feature Importance\n",
    "By far the most important feature was 'days between_creation_and_last_session'. The importance metric used is the mean decrease of impurity within each tree which the varible 'days between_creation_and_last_session' has a value of 0.9815.\n",
    "\n",
    "![title](Images/feat.png)\n"
   ]
  },
  {
   "cell_type": "markdown",
   "id": "7f84d163",
   "metadata": {},
   "source": [
    "## Ideas for Future Research\n",
    "\n",
    "* Defining an \"adopted user\" as a user who has logged into the product on three separate days in at least one seven-day period might not be the best metric for a user who has 'adopted' the product. The creation times and last session times span over 2 years: May 2012 - May-2014. That means a user who logged in 3 times withina 7 day period in early 2012 but has never logged on since would still be considered an 'adopted user'. A better metric would be one that weighs recent logins more heavily. \n",
    "\n",
    "\n",
    "* Some more data which could be useful is login length or session logout time. With this data we can see how long a user is logged in for which could be helpful."
   ]
  },
  {
   "cell_type": "code",
   "execution_count": null,
   "id": "4561b0e9",
   "metadata": {},
   "outputs": [],
   "source": []
  }
 ],
 "metadata": {
  "kernelspec": {
   "display_name": "Python 3 (ipykernel)",
   "language": "python",
   "name": "python3"
  },
  "language_info": {
   "codemirror_mode": {
    "name": "ipython",
    "version": 3
   },
   "file_extension": ".py",
   "mimetype": "text/x-python",
   "name": "python",
   "nbconvert_exporter": "python",
   "pygments_lexer": "ipython3",
   "version": "3.8.3"
  }
 },
 "nbformat": 4,
 "nbformat_minor": 5
}
